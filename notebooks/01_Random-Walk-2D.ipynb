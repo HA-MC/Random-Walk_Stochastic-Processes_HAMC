{
 "cells": [
  {
   "cell_type": "markdown",
   "id": "5671d986",
   "metadata": {},
   "source": [
    "# Random Walk 2D\n",
    "\n",
    "## Parámetros de la simulación\n",
    "\n",
    "- `n`: Número de pasos de la caminata aleatoria\n",
    "- `x`, `y`: Arreglos que almacenan las coordenadas en el plano\n",
    "- `val`: Variable aleatoria para elegir dirección\n",
    "\n",
    "## Generación de pasos aleatorios en 2D\n",
    "\n",
    "Cada paso se elige de forma uniforme entre cuatro direcciones posibles:\n",
    "1. Derecha (x + 1)\n",
    "2. Izquierda (x - 1)\n",
    "3. Arriba (y + 1)\n",
    "4. Abajo (y - 1)\n",
    "\n",
    "## Visualización de la caminata aleatoria\n",
    "\n",
    "- Se grafica la trayectoria `(x, y)` en un plano cartesiano.\n",
    "- Se guarda una copia en PDF para documentación/reporte.\n",
    "\n",
    "## Observaciones\n",
    "\n",
    "- La trayectoria muestra dispersión aleatoria típica de un proceso estocástico.\n",
    "- A mayor número de pasos `n`, la caminata se aleja más del origen.\n",
    "- Este modelo sirve de base para procesos más complejos como el movimiento browniano."
   ]
  },
  {
   "cell_type": "code",
   "execution_count": null,
   "id": "13679025",
   "metadata": {},
   "outputs": [],
   "source": [
    "import numpy\n",
    "import pylab\n",
    "import random\n",
    "\n",
    "# defining the number of steps\n",
    "n = 100000\n",
    "\n",
    "#creating two array for containing x and y coordinate\n",
    "#of size equals to the number of size and filled up with 0's\n",
    "x = numpy.zeros(n)\n",
    "y = numpy.zeros(n)\n",
    "\n",
    "# filling the coordinates with random variables\n",
    "for i in range(1, n):\n",
    "    val = random.randint(1, 4)\n",
    "    if val == 1:\n",
    "        x[i] = x[i - 1] + 1\n",
    "        y[i] = y[i - 1]\n",
    "    elif val == 2:\n",
    "        x[i] = x[i - 1] - 1\n",
    "        y[i] = y[i - 1]\n",
    "    elif val == 3:\n",
    "        x[i] = x[i - 1]\n",
    "        y[i] = y[i - 1] + 1\n",
    "    else:\n",
    "        x[i] = x[i - 1]\n",
    "        y[i] = y[i - 1] - 1\n",
    "\n",
    "\n",
    "# plotting stuff:\n",
    "pylab.title(\"Random Walk 2D grid ($n = \" + str(n) + \"$ steps)\")\n",
    "pylab.plot(x, y)\n",
    "pylab.savefig(\"rand_walk_grid\"+str(n)+\".pdf\",bbox_inches=\"tight\",dpi=600)\n",
    "pylab.show()"
   ]
  }
 ],
 "metadata": {
  "language_info": {
   "name": "python"
  }
 },
 "nbformat": 4,
 "nbformat_minor": 5
}
