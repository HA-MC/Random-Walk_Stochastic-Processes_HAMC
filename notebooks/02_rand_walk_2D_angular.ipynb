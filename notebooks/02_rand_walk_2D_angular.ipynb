{
 "cells": [
  {
   "cell_type": "markdown",
   "id": "6f2badd3",
   "metadata": {},
   "source": [
    "# Random Walk 2D with Angles\n",
    "\n",
    "- Simulation of a random walk on a plane, where the direction of each step is completely random, unlike a grid model.\n",
    "\n",
    "## Simulation Paramaters\n",
    "\n",
    "- `n`: Number of steps in the random walk\n",
    "- `x`, `y`: Arrays that store the coordinates on the plane\n",
    "- `fval`: Random angle to determine the direction of the step\n",
    "\n",
    "## 2D Random Step Generation\n",
    "\n",
    "The direction of each step is chosen uniformly on a circle, from -$\\pi$ to $\\pi$ radians. The step length is constant (1 unit), and the new coordinates are calculated using trigonometric functions sine and cosine.   \n",
    "\n",
    "## Random walk visualization\n",
    "\n",
    "- The trajectory `(x, y)` is graphed on a Cartesian plane."
   ]
  },
  {
   "cell_type": "code",
   "execution_count": null,
   "id": "9d0fcede",
   "metadata": {},
   "outputs": [],
   "source": [
    "# Python code for 2D random walk\n",
    "# step fixed (1 unit)\n",
    "# angle is random (0 - 2pi).\n",
    "import numpy\n",
    "import pylab\n",
    "import random\n",
    "import math\n",
    "\n",
    "# defining the number of steps\n",
    "n = 100000\n",
    "\n",
    "#creating two array for containing x and y coordinate\n",
    "#of size equals to the number of size and filled up with 0's\n",
    "x = numpy.zeros(n)\n",
    "y = numpy.zeros(n)\n",
    "\n",
    "# filling the coordinates with random variables\n",
    "for i in range(1, n):\n",
    "    fval = random.uniform(-math.pi, math.pi)\n",
    "    x[i] = x[i - 1] + math.cos(fval)\n",
    "    y[i] = y[i - 1] + math.sin(fval)\n",
    "\n",
    "\n",
    "# plotting stuff:\n",
    "pylab.title(\"Random Walk ($n = \" + str(n) + \"$ steps)\")\n",
    "pylab.plot(x, y)\n",
    "pylab.savefig(\"02_rand_walk_2D_angle.png\",bbox_inches=\"tight\",dpi=600)\n",
    "pylab.show()"
   ]
  }
 ],
 "metadata": {
  "language_info": {
   "name": "python"
  }
 },
 "nbformat": 4,
 "nbformat_minor": 5
}
